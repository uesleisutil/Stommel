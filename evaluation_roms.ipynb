{
 "metadata": {
  "language_info": {
   "codemirror_mode": {
    "name": "ipython",
    "version": 3
   },
   "file_extension": ".py",
   "mimetype": "text/x-python",
   "name": "python",
   "nbconvert_exporter": "python",
   "pygments_lexer": "ipython3",
   "version": "3.7.9-final"
  },
  "orig_nbformat": 2,
  "kernelspec": {
   "name": "python_defaultSpec_1601562485191",
   "display_name": "Python 3.7.9 64-bit ('Work': conda)",
   "metadata": {
    "interpreter": {
     "hash": "b7434031213578a65828522cffd786ae6ed597ad8bafab17125c7c5d17fe39a8"
    }
   }
  }
 },
 "nbformat": 4,
 "nbformat_minor": 2,
 "cells": [
  {
   "source": [
    "**File name**: evaluation_roms.ipynb\n",
    "\n",
    "**Author**:  Ueslei Adriano Sutil\n",
    "\n",
    "**Email**: [ueslei@putlook.com](mailto:ueslei@putlook.com)\n",
    "\n",
    "**Created**: 01 September 2020\n",
    "\n",
    "**Last modified**: 01 September 2020\n",
    "\n",
    "**Version**: 1.0\n",
    "\n",
    "**Python**: 3.7.9\n",
    "- - -\n",
    "<br>\n",
    "\n",
    "\n",
    "** 1. Evaluate ROMS output using:**\n",
    "\n",
    "- Bias (Contour);\n",
    "<br>\n",
    "$\n",
    "\\begin{equation}\n",
    "BIAS = A_{t}-F_{t}\n",
    "\\end{equation}\n",
    "$\n",
    "\n",
    "- Root Mean Square Error (RMSE; Contour);\n",
    "<br>\n",
    "$\n",
    "\\begin{equation}\n",
    "RMSE = \\sqrt{\\sum_{i=1}^{n}\\frac{(A_{t}-F_{t})^2}{n}}\n",
    "\\end{equation}\n",
    "$\n",
    "\n",
    "- Mean Absolute Percentage Error (MAPE; Contour);\n",
    "<br>\n",
    "$\n",
    "\\begin{equation}\n",
    "MAPE = \\frac{1}{n}\\sum_{t=1}^{n}\\left | \\frac{A_{t}-F_{t}}{A_{t}} \\right |\n",
    "\\end{equation}\n",
    "$\n",
    "<br>\n",
    "\n",
    "Where $A_{t}$ is the actual value, $F_{t}$ is the forecast value and $n$ is the number of observations.\n",
    "<br>\n",
    "\n",
    "** 2. Compare ROMS output with:**\n",
    "- GLORYS12V1 (Fernandez & Lellouch, 2018; [[Access here]](http://marine.copernicus.eu/services-portfolio/access-to-products/?option=com_csw&view=details&product_id=GLOBAL_REANALYSIS_PHY_001_030)):)\n",
    "    - Sea Surface Temperature (°C);\n",
    "    - Current Speed at surface (m.s⁻¹).\n",
    "\n",
    "- OSCAR (Bonjean & Lagerloef et al., 2002; [[Access here]](https://podaac.jpl.nasa.gov/dataset/OSCAR_L4_OC_third-deg)):\n",
    "    - Ocean Current Speed at surface (m.s⁻¹);\n",
    "\n",
    "\n",
    "** 3. Disclaimers: **\n",
    "- Both Observed and Simulated variables needs to match the same time-step. \n",
    "- Post-process ROMS outputs to match with the databases:<br>\n",
    "  \n",
    "    - MUR and GLORYS (Daily data):<br>\n",
    "        `ncks -v temp,u,v -d s_rho,29,29 roms_his.nc roms_evaluation.nc`<br>\n",
    "        `cdo daymean roms_evaluation.nc roms_evaluation_mean.nc`<br>\n",
    "        `cdo splitday roms_evaluation_mean.nc roms_evaluation_mean`<br>\n",
    "        `cdo cat roms_evaluation_mean01 roms_evaluation_mean02 ... roms_ts_daymean.nc`<br>\n",
    "   \n",
    "    - OSCAR (Each 5 days data):<br>\n",
    "        `ncks -v u,v -d s_rho,49,49 roms_avg.nc roms_evaluation.nc`<br>\n",
    "        `cdo daymean roms_evaluation.nc roms_evaluation_mean.nc`<br>\n",
    "        `cdo splitday roms_evaluation_mean.nc roms_evaluation_mean`<br>\n",
    "        `cdo cat roms_evaluation_mean21 roms_evaluation_mean26 roms_evaluation_final.nc`"
   ],
   "cell_type": "markdown",
   "metadata": {}
  },
  {
   "source": [
    "** 1. Import libraries. **"
   ],
   "cell_type": "markdown",
   "metadata": {}
  },
  {
   "cell_type": "code",
   "execution_count": 1,
   "metadata": {},
   "outputs": [],
   "source": [
    "import netCDF4\n",
    "import pyresample\n",
    "import cmocean\n",
    "import os\n",
    "from   mpl_toolkits.basemap import Basemap\n",
    "from   wrf                  import getvar,extract_times\n",
    "from   roms_libs            import *\n",
    "from   tqdm                 import tqdm\n",
    "from   time                 import sleep\n",
    "import numpy                as np\n",
    "import matplotlib.pyplot    as plt"
   ]
  },
  {
   "source": [
    "** 2. Set customizations. **"
   ],
   "cell_type": "markdown",
   "metadata": {}
  },
  {
   "cell_type": "code",
   "execution_count": 2,
   "metadata": {},
   "outputs": [],
   "source": [
    "# Set map boundaries.\n",
    "bbox            = [-53,-43,-33,-23]\n",
    "lonbounds       = [-53,-43] \n",
    "latbounds       = [-33,-23]\n",
    "\n",
    "# Set files path.\n",
    "roms_dir            = '/media/ueslei/Ueslei_HD/INPE/PCI/Projetos/SC_2008/Outputs/normal/roms_ts_daymean.nc'\n",
    "roms_oscar_dir      = '/media/ueslei/Ueslei_HD/INPE/PCI/Projetos/SC_2008/Outputs/normal/roms_oscar_eval.nc'\n",
    "mur_dir             = '/media/ueslei/Ueslei_HD/INPE/PCI/Projetos/SC_2008/Dados/Evaluation/MUR/mur.nc' \n",
    "glorys_dir          = '/media/ueslei/Ueslei_HD/INPE/PCI/Projetos/SC_2008/Dados/Evaluation/Glorys/glorys.nc'  \n",
    "oscar_dir           = '/media/ueslei/Ueslei_HD/INPE/PCI/Projetos/SC_2008/Dados/Evaluation/OSCAR/oscar.nc' \n",
    "\n",
    "# Set range.\n",
    "clevs_rmse = np.arange(0,5.05,0.01)\n",
    "ticks_rmse = np.arange(min(clevs_rmse),max(clevs_rmse),1)\n",
    "clevs_mape = np.arange(0,18.02,0.01)\n",
    "ticks_mape = np.arange(min(clevs_mape),max(clevs_mape),2)\n",
    "clevs_bias = np.arange(-4,4.1,0.01)\n",
    "ticks_bias = np.arange(min(clevs_bias),max(clevs_bias),1)"
   ]
  },
  {
   "source": [
    "#### 3. Choose which datase, variable and metric will be used to compare with WRF output."
   ],
   "cell_type": "markdown",
   "metadata": {}
  },
  {
   "cell_type": "code",
   "execution_count": 3,
   "metadata": {
    "tags": []
   },
   "outputs": [
    {
     "output_type": "stream",
     "name": "stdout",
     "text": "Evaluate Sea Surface Temperature using: (1) Glorys or (2) OSCAR.\nEvaluate which ROMS variable? (1) Sea Surface Temperature or (2) Current Speed at Surface.\nWhich statistical metric? (1) Root Mean Square Error, (2) Mean Absolute Error or (3) Bias.\n"
    }
   ],
   "source": [
    "print('Evaluate Sea Surface Temperature using: (1) Glorys or (2) OSCAR.') \n",
    "dataset  = input()\n",
    "if dataset == '1':\n",
    "    print('Evaluate which ROMS variable? (1) Sea Surface Temperature or (2) Current Speed at Surface.')\n",
    "    contourf_var = input()\n",
    "elif dataset == '2':\n",
    "    contourf_var = 2 \n",
    "print('Which statistical metric? (1) Root Mean Square Error, (2) Mean Absolute Error or (3) Bias.')\n",
    "metric  = input()"
   ]
  },
  {
   "source": [
    "#### 4. Collect data from the observed data."
   ],
   "cell_type": "markdown",
   "metadata": {}
  },
  {
   "cell_type": "code",
   "execution_count": 4,
   "metadata": {
    "tags": []
   },
   "outputs": [
    {
     "output_type": "stream",
     "name": "stderr",
     "text": "100%|██████████| 8/8 [00:01&lt;00:00,  5.04it/s]\n"
    }
   ],
   "source": [
    "# Open files and load lat/lon coords.\n",
    "if dataset == '1':\n",
    "    glorys_file = '/media/ueslei/Ueslei_HD/INPE/PCI/Projetos/SC_2008/Dados/Evaluation/Glorys/glorys.nc' \n",
    "    nc_obs    = netCDF4.Dataset(glorys_file)\n",
    "    lon_obs   = nc_obs.variables['longitude'][:]\n",
    "    lat_obs   = nc_obs.variables['latitude'][:]\n",
    "elif dataset == '2':\n",
    "    oscar_file = '/media/ueslei/Ueslei_HD/INPE/PCI/Projetos/SC_2008/Dados/Evaluation/OSCAR/oscar.nc' \n",
    "    nc_obs    = netCDF4.Dataset(oscar_file)\n",
    "    lon_obs   = nc_obs.variables['longitude'][:]-360\n",
    "    lat_obs   = nc_obs.variables['latitude'][:]   \n",
    "\n",
    "# Calculate lat/lon coords based on the bounds chosen in step 2.\n",
    "latli = np.argmin(np.abs(lat_obs-latbounds[1]))\n",
    "latui = np.argmin(np.abs(lat_obs-latbounds[0])) \n",
    "lonli = np.argmin(np.abs(lon_obs-lonbounds[0]))\n",
    "lonui = np.argmin(np.abs(lon_obs-lonbounds[1])) \n",
    "\n",
    "# Reopen lat/lon coords with the exactly gridpoin based on the chosen bounds.\n",
    "if dataset == '1':\n",
    "    lon_obs = nc_obs.variables['longitude'][lonli:lonui]\n",
    "    lat_obs = nc_obs.variables['latitude'][latui:latli]\n",
    "elif dataset == '2':\n",
    "    lon_obs = nc_obs.variables['longitude'][lonli:lonui]-360\n",
    "    lat_obs = nc_obs.variables['latitude'][latli:latui]\n",
    "\n",
    "# Lon/lat\n",
    "lat_obs_len = len(lat_obs[:])\n",
    "lon_obs_len = len(lon_obs[:])\n",
    "\n",
    "# Count how many time steps in file.\n",
    "loop = len(nc_obs.variables['time'][:])   \n",
    "\n",
    "# Create variable to store data.\n",
    "if dataset == '1':\n",
    "    var = np.zeros([loop,lat_obs_len,lon_obs_len])\n",
    "    observed = np.zeros([loop,lat_obs_len,lon_obs_len])\n",
    "elif dataset =='2':\n",
    "    var1 = np.zeros([loop,lat_obs_len,lon_obs_len])\n",
    "    var2 = np.zeros([loop,lat_obs_len,lon_obs_len])\n",
    "    observed1 = np.zeros([loop,lat_obs_len,lon_obs_len])\n",
    "    observed2 = np.zeros([loop,lat_obs_len,lon_obs_len])\n",
    "\n",
    "# Do the loop though the time steps and store data in a new observed variable.\n",
    "with tqdm(total=loop) as pbar:\n",
    "        for i in range(0,loop):\n",
    "            if dataset == '1':\n",
    "                var = nc_obs.variables['thetao'][i,0,latui:latli,lonli:lonui]\n",
    "                observed[i,:,:] = var \n",
    "            elif dataset == '2':\n",
    "                var1 = nc_obs.variables['u'][i,0,latli:latui,lonli:lonui]\n",
    "                var2 = nc_obs.variables['v'][i,0,latli:latui,lonli:lonui]\n",
    "                observed1[i,:,:] = var1\n",
    "                observed2[i,:,:] = var2 \n",
    "            sleep(0.1)\n",
    "            pbar.update(1)\n",
    "if dataset == '2':\n",
    "    observed = np.sqrt(observed1**2 + observed2**2)  \n",
    "else:\n",
    "    pass"
   ]
  },
  {
   "source": [
    "#### 4. Collect data from the resampled simulated data."
   ],
   "cell_type": "markdown",
   "metadata": {}
  },
  {
   "cell_type": "code",
   "execution_count": 6,
   "metadata": {
    "tags": []
   },
   "outputs": [
    {
     "output_type": "stream",
     "name": "stderr",
     "text": "100%|██████████| 8/8 [00:00&lt;00:00,  9.58it/s]\n100%|██████████| 8/8 [00:00&lt;00:00,  8.39it/s]\n"
    }
   ],
   "source": [
    "# Open files and load lat/lon coords.\n",
    "nc_sim  = netCDF4.Dataset(roms_dir)\n",
    "lon_rho = nc_sim.variables['lon_rho'][:,:]\n",
    "lat_rho = nc_sim.variables['lat_rho'][:,:]\n",
    "\n",
    "# Calculate lat/lon coords based on the bounds chosen in step 2.\n",
    "i0,i1,j0,j1  = bbox2ij(lon_rho,lat_rho,bbox)\n",
    "lon_sim     = lon_rho[j0:j1, i0:i1]\n",
    "lat_sim     = lat_rho[j0:j1, i0:i1]\n",
    " \n",
    "# Lon/lat length.\n",
    "lat_sim_len = len(lat_rho[j0:j1,0])\n",
    "lon_sim_len = len(lon_rho[0, i0:i1])\n",
    "  \n",
    "# Create variable to store data.\n",
    "# Since MUR has a higher spatial resolution than ROMS output, change the expected variable.\n",
    "var = np.zeros([loop,lat_sim_len,lon_sim_len])\n",
    "expected = np.zeros([loop,lat_obs_len,lon_obs_len])\n",
    "\n",
    "# First step to resample simulate data.\n",
    "# Since MUR has a higher spatial resolution than ROMS output, change the orig/targ swath definition.\n",
    "orig = pyresample.geometry.SwathDefinition(lons=lon_sim, lats=lat_sim)\n",
    "targ = pyresample.geometry.SwathDefinition(lons=lon_obs, lats=lat_obs)\n",
    "\n",
    "# Do the loop though the time steps and store data in a new observed variable.\n",
    "with tqdm(total=loop) as pbar:\n",
    "    for i in range(0,loop):\n",
    "        var[:,:,:]         = nc_sim.variables['temp'][i,0,j0:j1, i0:i1]\n",
    "        sleep(0.1)\n",
    "        pbar.update(1)\n",
    "\n",
    "# Second loop to resample with the stored variable.\n",
    "with tqdm(total=loop) as pbar:\n",
    "    for i in range(0,loop,1):      \n",
    "        expected[i,:,:] = pyresample.kd_tree.resample_gauss(orig, var[i,:,:], targ,radius_of_influence=50000, sigmas=25000, fill_value=None)\n",
    "        sleep(0.1)\n",
    "        pbar.update(1)"
   ]
  },
  {
   "source": [
    "** 5. Calculate the metrics. **"
   ],
   "cell_type": "markdown",
   "metadata": {}
  },
  {
   "cell_type": "code",
   "execution_count": 13,
   "metadata": {},
   "outputs": [],
   "source": [
    "# Calculate Root Mean Square Error.\n",
    "if metric=='1':\n",
    "    differences         = expected-observed\n",
    "    differences_squared = differences ** 2 \n",
    "    mean_of_differences_squared = np.average(differences_squared,axis=0)\n",
    "    val                 = np.sqrt(mean_of_differences_squared)\n",
    "\n",
    "# Calculate Mean Absolute Error.\n",
    "elif metric=='2':\n",
    "    val = np.abs((observed-expected)/observed).mean(axis=0)*100\n",
    "\n",
    "# Calculate Bias.\n",
    "elif metric=='3':\n",
    "    expected1 = np.average(expected,axis=0) \n",
    "    observed1 = np.average(observed,axis=0)\n",
    "    val       = expected1-observed1"
   ]
  },
  {
   "source": [
    "** 6. Create and plot map and then save. **"
   ],
   "cell_type": "markdown",
   "metadata": {}
  },
  {
   "cell_type": "code",
   "execution_count": 14,
   "metadata": {},
   "outputs": [
    {
     "output_type": "error",
     "ename": "IndexError",
     "evalue": "too many indices for array: array is 1-dimensional, but 2 were indexed",
     "traceback": [
      "\u001b[0;31m---------------------------------------------------------------------------\u001b[0m",
      "\u001b[0;31mIndexError\u001b[0m                                Traceback (most recent call last)",
      "\u001b[0;32m&lt;ipython-input-14-35f1369c6883&gt;\u001b[0m in \u001b[0;36m&lt;module&gt;\u001b[0;34m\u001b[0m\n\u001b[1;32m     25\u001b[0m \u001b[0;32mif\u001b[0m \u001b[0mdataset\u001b[0m \u001b[0;34m==\u001b[0m\u001b[0;34m&#39;1&#39;\u001b[0m\u001b[0;34m:\u001b[0m\u001b[0;34m\u001b[0m\u001b[0;34m\u001b[0m\u001b[0m\n\u001b[1;32m     26\u001b[0m     \u001b[0;32mif\u001b[0m \u001b[0mmetric\u001b[0m \u001b[0;34m==\u001b[0m \u001b[0;34m&#39;1&#39;\u001b[0m \u001b[0;32mor\u001b[0m \u001b[0mmetric\u001b[0m\u001b[0;34m==\u001b[0m\u001b[0;34m&#39;2&#39;\u001b[0m\u001b[0;34m:\u001b[0m\u001b[0;34m\u001b[0m\u001b[0;34m\u001b[0m\u001b[0m\n\u001b[0;32m---&gt; 27\u001b[0;31m         \u001b[0mh1\u001b[0m    \u001b[0;34m=\u001b[0m \u001b[0mm\u001b[0m\u001b[0;34m.\u001b[0m\u001b[0mcontourf\u001b[0m\u001b[0;34m(\u001b[0m\u001b[0mlon_obs\u001b[0m\u001b[0;34m,\u001b[0m \u001b[0mlat_obs\u001b[0m\u001b[0;34m,\u001b[0m \u001b[0mval\u001b[0m\u001b[0;34m,\u001b[0m \u001b[0mclevs\u001b[0m\u001b[0;34m,\u001b[0m\u001b[0mlatlon\u001b[0m\u001b[0;34m=\u001b[0m\u001b[0;32mTrue\u001b[0m\u001b[0;34m,\u001b[0m\u001b[0mcmap\u001b[0m\u001b[0;34m=\u001b[0m\u001b[0mcmap\u001b[0m\u001b[0;34m,\u001b[0m\u001b[0mextend\u001b[0m\u001b[0;34m=\u001b[0m\u001b[0;34m&quot;both&quot;\u001b[0m\u001b[0;34m)\u001b[0m\u001b[0;34m\u001b[0m\u001b[0;34m\u001b[0m\u001b[0m\n\u001b[0m\u001b[1;32m     28\u001b[0m     \u001b[0;32mif\u001b[0m \u001b[0mmetric\u001b[0m \u001b[0;34m==\u001b[0m \u001b[0;34m&#39;3&#39;\u001b[0m\u001b[0;34m:\u001b[0m\u001b[0;34m\u001b[0m\u001b[0;34m\u001b[0m\u001b[0m\n\u001b[1;32m     29\u001b[0m         \u001b[0mh1\u001b[0m    \u001b[0;34m=\u001b[0m \u001b[0mm\u001b[0m\u001b[0;34m.\u001b[0m\u001b[0mcontourf\u001b[0m\u001b[0;34m(\u001b[0m\u001b[0mlon_obs\u001b[0m\u001b[0;34m,\u001b[0m \u001b[0mlat_obs\u001b[0m\u001b[0;34m,\u001b[0m \u001b[0mval\u001b[0m\u001b[0;34m,\u001b[0m \u001b[0mclevs\u001b[0m\u001b[0;34m,\u001b[0m\u001b[0mlatlon\u001b[0m\u001b[0;34m=\u001b[0m\u001b[0;32mTrue\u001b[0m\u001b[0;34m,\u001b[0m\u001b[0mcmap\u001b[0m\u001b[0;34m=\u001b[0m\u001b[0mcmap\u001b[0m\u001b[0;34m,\u001b[0m\u001b[0mnorm\u001b[0m\u001b[0;34m=\u001b[0m\u001b[0mMidpointNormalize\u001b[0m\u001b[0;34m(\u001b[0m\u001b[0mmidpoint\u001b[0m\u001b[0;34m=\u001b[0m\u001b[0;36m0\u001b[0m\u001b[0;34m)\u001b[0m\u001b[0;34m,\u001b[0m\u001b[0mextend\u001b[0m\u001b[0;34m=\u001b[0m\u001b[0;34m&quot;both&quot;\u001b[0m\u001b[0;34m)\u001b[0m\u001b[0;34m\u001b[0m\u001b[0;34m\u001b[0m\u001b[0m\n",
      "\u001b[0;32m~/anaconda3/envs/Work/lib/python3.7/site-packages/mpl_toolkits/basemap/__init__.py\u001b[0m in \u001b[0;36mwith_transform\u001b[0;34m(self, x, y, data, *args, **kwargs)\u001b[0m\n\u001b[1;32m    541\u001b[0m             \u001b[0;31m# convert lat/lon coords to map projection coords.\u001b[0m\u001b[0;34m\u001b[0m\u001b[0;34m\u001b[0m\u001b[0;34m\u001b[0m\u001b[0m\n\u001b[1;32m    542\u001b[0m             \u001b[0mx\u001b[0m\u001b[0;34m,\u001b[0m \u001b[0my\u001b[0m \u001b[0;34m=\u001b[0m \u001b[0mself\u001b[0m\u001b[0;34m(\u001b[0m\u001b[0mx\u001b[0m\u001b[0;34m,\u001b[0m\u001b[0my\u001b[0m\u001b[0;34m)\u001b[0m\u001b[0;34m\u001b[0m\u001b[0;34m\u001b[0m\u001b[0m\n\u001b[0;32m--&gt; 543\u001b[0;31m         \u001b[0;32mreturn\u001b[0m \u001b[0mplotfunc\u001b[0m\u001b[0;34m(\u001b[0m\u001b[0mself\u001b[0m\u001b[0;34m,\u001b[0m\u001b[0mx\u001b[0m\u001b[0;34m,\u001b[0m\u001b[0my\u001b[0m\u001b[0;34m,\u001b[0m\u001b[0mdata\u001b[0m\u001b[0;34m,\u001b[0m\u001b[0;34m*\u001b[0m\u001b[0margs\u001b[0m\u001b[0;34m,\u001b[0m\u001b[0;34m**\u001b[0m\u001b[0mkwargs\u001b[0m\u001b[0;34m)\u001b[0m\u001b[0;34m\u001b[0m\u001b[0;34m\u001b[0m\u001b[0m\n\u001b[0m\u001b[1;32m    544\u001b[0m     \u001b[0;32mreturn\u001b[0m \u001b[0mwith_transform\u001b[0m\u001b[0;34m\u001b[0m\u001b[0;34m\u001b[0m\u001b[0m\n\u001b[1;32m    545\u001b[0m \u001b[0;34m\u001b[0m\u001b[0m\n",
      "\u001b[0;32m~/anaconda3/envs/Work/lib/python3.7/site-packages/mpl_toolkits/basemap/__init__.py\u001b[0m in \u001b[0;36mcontourf\u001b[0;34m(self, x, y, data, *args, **kwargs)\u001b[0m\n\u001b[1;32m   3639\u001b[0m                 \u001b[0;31m# only do this check for global projections.\u001b[0m\u001b[0;34m\u001b[0m\u001b[0;34m\u001b[0m\u001b[0;34m\u001b[0m\u001b[0m\n\u001b[1;32m   3640\u001b[0m                 \u001b[0;32mif\u001b[0m \u001b[0mself\u001b[0m\u001b[0;34m.\u001b[0m\u001b[0mprojection\u001b[0m \u001b[0;32min\u001b[0m \u001b[0m_cylproj\u001b[0m \u001b[0;34m+\u001b[0m \u001b[0m_pseudocyl\u001b[0m\u001b[0;34m:\u001b[0m\u001b[0;34m\u001b[0m\u001b[0;34m\u001b[0m\u001b[0m\n\u001b[0;32m-&gt; 3641\u001b[0;31m                     \u001b[0mxx\u001b[0m \u001b[0;34m=\u001b[0m \u001b[0mx\u001b[0m\u001b[0;34m[\u001b[0m\u001b[0mx\u001b[0m\u001b[0;34m.\u001b[0m\u001b[0mshape\u001b[0m\u001b[0;34m[\u001b[0m\u001b[0;36m0\u001b[0m\u001b[0;34m]\u001b[0m\u001b[0;34m//\u001b[0m\u001b[0;36m2\u001b[0m\u001b[0;34m,\u001b[0m\u001b[0;34m:\u001b[0m\u001b[0;34m]\u001b[0m\u001b[0;34m\u001b[0m\u001b[0;34m\u001b[0m\u001b[0m\n\u001b[0m\u001b[1;32m   3642\u001b[0m                     \u001b[0mcondition\u001b[0m \u001b[0;34m=\u001b[0m \u001b[0;34m(\u001b[0m\u001b[0mxx\u001b[0m \u001b[0;34m&gt;=\u001b[0m \u001b[0mself\u001b[0m\u001b[0;34m.\u001b[0m\u001b[0mxmin\u001b[0m\u001b[0;34m)\u001b[0m \u001b[0;34m&amp;\u001b[0m \u001b[0;34m(\u001b[0m\u001b[0mxx\u001b[0m \u001b[0;34m&lt;=\u001b[0m \u001b[0mself\u001b[0m\u001b[0;34m.\u001b[0m\u001b[0mxmax\u001b[0m\u001b[0;34m)\u001b[0m\u001b[0;34m\u001b[0m\u001b[0;34m\u001b[0m\u001b[0m\n\u001b[1;32m   3643\u001b[0m                     \u001b[0mxl\u001b[0m \u001b[0;34m=\u001b[0m \u001b[0mxx\u001b[0m\u001b[0;34m.\u001b[0m\u001b[0mcompress\u001b[0m\u001b[0;34m(\u001b[0m\u001b[0mcondition\u001b[0m\u001b[0;34m)\u001b[0m\u001b[0;34m.\u001b[0m\u001b[0mtolist\u001b[0m\u001b[0;34m(\u001b[0m\u001b[0;34m)\u001b[0m\u001b[0;34m\u001b[0m\u001b[0;34m\u001b[0m\u001b[0m\n",
      "\u001b[0;31mIndexError\u001b[0m: too many indices for array: array is 1-dimensional, but 2 were indexed"
     ]
    }
   ],
   "source": [
    "# Create and plot map.\n",
    "m    = Basemap(projection='merc',llcrnrlat=bbox[2],urcrnrlat=bbox[3],llcrnrlon=bbox[0],urcrnrlon=bbox[1], lat_ts=30,resolution='i')\n",
    "fig  = plt.figure(1,figsize=(10,8))\n",
    "plt.xlabel('Longitude'u' [\\N{DEGREE SIGN}]',labelpad=18,size=10)\n",
    "plt.ylabel('Latitude'u' [\\N{DEGREE SIGN}]',labelpad=33,size=10)\n",
    "ax   = fig.add_subplot(111)\n",
    "m.drawparallels(np.arange(-90.,120.,1.), linewidth=0.00, color='black', labels=[1,0,0,1],labelstyle=\"N/S\",fontsize=10)\n",
    "m.drawmeridians(np.arange(-180.,180.,1.), linewidth=0.00,color='black', labels=[1,0,0,1],labelstyle=\"N/S\",fontsize=10)\n",
    "m.drawcountries(color = '#ffffff',linewidth=0.5)\n",
    "m.drawcoastlines(color = '#ffffff',linewidth=0.5)\n",
    "m.fillcontinents(color = '#000000')\n",
    "\n",
    "# Map ticks and gradient.\n",
    "if metric=='1':\n",
    "    clevs = clevs_rmse\n",
    "    ticks = ticks_rmse\n",
    "    cmap  =  matplotlib.pyplot.jet()   #cmocean.cm.thermal\n",
    "elif metric=='2':\n",
    "    clevs = clevs_mape\n",
    "    ticks = ticks_mape\n",
    "    cmap  = cmocean.cm.balance\n",
    "elif metric=='3':\n",
    "    clevs = clevs_bias\n",
    "    ticks = ticks_bias\n",
    "    cmap  = cmocean.cm.balance\n",
    "\n",
    "# Map pallete and plot\n",
    "if dataset =='1':\n",
    "    if metric == '1' or metric=='2':\n",
    "        h1    = m.contourf(lon_obs, lat_obs, val, clevs,latlon=True,cmap=cmap,extend=\"both\")   \n",
    "    elif metric == '3':\n",
    "        h1    = m.contourf(lon_obs, lat_obs, val, clevs,latlon=True,cmap=cmap,norm=MidpointNormalize(midpoint=0),extend=\"both\")  \n",
    "if dataset == '2':\n",
    "    if metric == '1' or metric=='2':\n",
    "        h1    = m.contourf(lon_obs, lat_obs, val, clevs,latlon=True,cmap=cmap,extend=\"both\")\n",
    "    elif metric == '3':\n",
    "        h1    = m.contourf(lon_obs, lat_obs, val, clevs,latlon=True,cmap=cmap,norm=MidpointNormalize(midpoint=0),extend=\"both\")          \n",
    "cax   = fig.add_axes([0.37, 0.025, 0.27, 0.025])     \n",
    "cb    = fig.colorbar(h1, cax=cax, orientation=\"horizontal\",panchor=(0.5,0.5),shrink=0.3,ticks=ticks)\n",
    "\n",
    "\n",
    "# Map legend.\n",
    "if metric=='1':\n",
    "    cb.set_label(r'Surface Currents Root Mean Square Error [m.s⁻¹]', fontsize=10, color='0.2',labelpad=-0.5)\n",
    "elif metric=='2':\n",
    "    cb.set_label(r'Current at Surface Mean Absolute Percentage Error [%]', fontsize=10, color='0.2',labelpad=-0.5)\n",
    "elif metric=='3':\n",
    "    cb.set_label(r'Current at Surface Bias [m.s⁻¹]', fontsize=10, color='0.2',labelpad=-0.5)      \n",
    "cb.ax.tick_params(labelsize=10, length=2, color='0.2', labelcolor='0.2',direction='in') \n",
    "cb.set_ticks(ticks)\n",
    "\n",
    "\n",
    "try:\n",
    "    os.makedirs(\"roms_evaluation\")\n",
    "except FileExistsError:\n",
    "    pass \n",
    "    \n",
    "\n",
    "if metric=='1' and choose_data == '1':\n",
    "    plt.savefig('./roms_evaluation/sscs_rmse_roms_oscar.png', transparent=False, bbox_inches = 'tight', pad_inches=0, dpi=250)              \n",
    "elif metric=='2' and choose_data == '1':\n",
    "    plt.savefig('./roms_evaluation/sscs_mape_roms_oscar.png', transparent=False, bbox_inches = 'tight', pad_inches=0, dpi=250)  \n",
    "elif metric=='3' and choose_data == '1':\n",
    "    plt.savefig('./roms_evaluation/sscs_bias_roms_oscar.png', transparent=False, bbox_inches = 'tight', pad_inches=0, dpi=250)             \n",
    "elif metric=='1' and choose_data == '2':\n",
    "    plt.savefig('./roms_evaluation/sscs_rmse_roms_glorys.png', transparent=False, bbox_inches = 'tight', pad_inches=0, dpi=250)              \n",
    "elif metric=='2' and choose_data == '2':\n",
    "    plt.savefig('./roms_evaluation/sscs_mape_roms_glorys.png', transparent=False, bbox_inches = 'tight', pad_inches=0, dpi=250)    \n",
    "elif metric=='3' and choose_data == '2':\n",
    "    plt.savefig('./roms_evaluation/sscs_bias_roms_glorys.png', transparent=False, bbox_inches = 'tight', pad_inches=0, dpi=250)    "
   ]
  },
  {
   "cell_type": "code",
   "execution_count": null,
   "metadata": {},
   "outputs": [],
   "source": []
  }
 ]
}